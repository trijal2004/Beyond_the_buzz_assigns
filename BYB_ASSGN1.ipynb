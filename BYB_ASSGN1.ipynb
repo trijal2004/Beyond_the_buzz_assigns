{
 "cells": [
  {
   "attachments": {},
   "cell_type": "markdown",
   "metadata": {},
   "source": [
    "Assignment 1"
   ]
  },
  {
   "cell_type": "code",
   "execution_count": 1,
   "metadata": {},
   "outputs": [],
   "source": [
    "import pandas as pd\n",
    "import numpy as np\n",
    "from matplotlib import pyplot as plt\n",
    "import seaborn as sns"
   ]
  },
  {
   "cell_type": "code",
   "execution_count": 2,
   "metadata": {},
   "outputs": [],
   "source": [
    "test = pd.read_csv('mnist_test.csv')\n",
    "train = pd.read_csv('mnist_train.csv')"
   ]
  },
  {
   "cell_type": "code",
   "execution_count": 3,
   "metadata": {},
   "outputs": [
    {
     "name": "stdout",
     "output_type": "stream",
     "text": [
      "       0      1      2      3      4      5      6      7      8      9      \\\n",
      "1x1      0.0    0.0    0.0    0.0    0.0    0.0    0.0    0.0    0.0    0.0   \n",
      "1x2      0.0    0.0    0.0    0.0    0.0    0.0    0.0    0.0    0.0    0.0   \n",
      "1x3      0.0    0.0    0.0    0.0    0.0    0.0    0.0    0.0    0.0    0.0   \n",
      "1x4      0.0    0.0    0.0    0.0    0.0    0.0    0.0    0.0    0.0    0.0   \n",
      "1x5      0.0    0.0    0.0    0.0    0.0    0.0    0.0    0.0    0.0    0.0   \n",
      "...      ...    ...    ...    ...    ...    ...    ...    ...    ...    ...   \n",
      "28x24    0.0    0.0    0.0    0.0    0.0    0.0    0.0    0.0    0.0    0.0   \n",
      "28x25    0.0    0.0    0.0    0.0    0.0    0.0    0.0    0.0    0.0    0.0   \n",
      "28x26    0.0    0.0    0.0    0.0    0.0    0.0    0.0    0.0    0.0    0.0   \n",
      "28x27    0.0    0.0    0.0    0.0    0.0    0.0    0.0    0.0    0.0    0.0   \n",
      "28x28    0.0    0.0    0.0    0.0    0.0    0.0    0.0    0.0    0.0    0.0   \n",
      "\n",
      "       ...  59990  59991  59992  59993  59994  59995  59996  59997  59998  \\\n",
      "1x1    ...    0.0    0.0    0.0    0.0    0.0    0.0    0.0    0.0    0.0   \n",
      "1x2    ...    0.0    0.0    0.0    0.0    0.0    0.0    0.0    0.0    0.0   \n",
      "1x3    ...    0.0    0.0    0.0    0.0    0.0    0.0    0.0    0.0    0.0   \n",
      "1x4    ...    0.0    0.0    0.0    0.0    0.0    0.0    0.0    0.0    0.0   \n",
      "1x5    ...    0.0    0.0    0.0    0.0    0.0    0.0    0.0    0.0    0.0   \n",
      "...    ...    ...    ...    ...    ...    ...    ...    ...    ...    ...   \n",
      "28x24  ...    0.0    0.0    0.0    0.0    0.0    0.0    0.0    0.0    0.0   \n",
      "28x25  ...    0.0    0.0    0.0    0.0    0.0    0.0    0.0    0.0    0.0   \n",
      "28x26  ...    0.0    0.0    0.0    0.0    0.0    0.0    0.0    0.0    0.0   \n",
      "28x27  ...    0.0    0.0    0.0    0.0    0.0    0.0    0.0    0.0    0.0   \n",
      "28x28  ...    0.0    0.0    0.0    0.0    0.0    0.0    0.0    0.0    0.0   \n",
      "\n",
      "       59999  \n",
      "1x1      0.0  \n",
      "1x2      0.0  \n",
      "1x3      0.0  \n",
      "1x4      0.0  \n",
      "1x5      0.0  \n",
      "...      ...  \n",
      "28x24    0.0  \n",
      "28x25    0.0  \n",
      "28x26    0.0  \n",
      "28x27    0.0  \n",
      "28x28    0.0  \n",
      "\n",
      "[784 rows x 60000 columns]\n",
      "0        5\n",
      "1        0\n",
      "2        4\n",
      "3        1\n",
      "4        9\n",
      "        ..\n",
      "59995    8\n",
      "59996    3\n",
      "59997    5\n",
      "59998    6\n",
      "59999    8\n",
      "Name: label, Length: 60000, dtype: int64\n"
     ]
    }
   ],
   "source": [
    "x_train = train.drop('label', axis=1)\n",
    "x_train = x_train.T\n",
    "x_train = x_train/255\n",
    "y_train = train.label\n",
    " \n",
    "x_test = test.drop('label',axis=1)\n",
    "x_test = x_test.T\n",
    "y_test = test.label\n",
    "print(x_train)\n",
    "print(y_train)"
   ]
  },
  {
   "cell_type": "code",
   "execution_count": 4,
   "metadata": {},
   "outputs": [
    {
     "data": {
      "image/png": "[encoded data removed]",
      "text/plain": [
       "<Figure size 1000x1500 with 10 Axes>"
      ]
     },
     "metadata": {},
     "output_type": "display_data"
    }
   ],
   "source": [
    "X_train_reshaped = x_train.T.values.reshape(-1, 28, 28)\n",
    "plt.figure(figsize=(10, 15))\n",
    "for i in range(10):\n",
    "    plt.subplot(5, 5, i+1)\n",
    "    plt.grid(False)\n",
    "    plt.imshow(X_train_reshaped[i])\n",
    "    plt.xlabel(y_train.iloc[i])"
   ]
  },
  {
   "cell_type": "code",
   "execution_count": 5,
   "metadata": {},
   "outputs": [],
   "source": [
    "class ANN:\n",
    "  def __init__(self, input_size,output_size,learning_rate,num_layers,num_of_nodes_layers):\n",
    "    self.input_size = input_size\n",
    "    self.output_size = output_size\n",
    "    self.learning_rate = learning_rate\n",
    "    self.num_layers = num_layers\n",
    "    self.num_of_nodes_layers = num_of_nodes_layers\n",
    "    self.weights_biases = {}\n",
    "    self.activations = {}\n",
    "  \n",
    "  def initial_params(self):\n",
    "    np.random.seed(20)\n",
    "    self.weights_biases['W1'] = np.random.rand(self.num_of_nodes_layers, self.input_size)-0.5\n",
    "    self.weights_biases['b1'] = np.random.rand(self.num_of_nodes_layers, 1)-0.5\n",
    "\n",
    "    for i in range(2, self.num_layers + 1):\n",
    "      self.weights_biases[f'W{i}']= np.random.rand(self.num_of_nodes_layers,self.num_of_nodes_layers)-0.5\n",
    "      self.weights_biases[f'b{i}']= np.random.rand(self.num_of_nodes_layers, 1)-0.5\n",
    "    \n",
    "    self.weights_biases[f'W{self.num_layers + 1}']= np.random.rand(self.output_size, self.num_of_nodes_layers)-0.5\n",
    "    self.weights_biases[f'b{self.num_layers + 1}']= np.random.rand(self.output_size, 1)-0.5\n",
    "\n",
    "  def RELU(self,Z):\n",
    "\n",
    "    return np.maximum(0,Z)\n",
    "\n",
    "   \n",
    "\n",
    "  def softmax(self,Z):\n",
    "    Z_max = np.max(Z, axis=0, keepdims=True)\n",
    "    Z_adjusted = Z - Z_max\n",
    "    A = np.exp(Z_adjusted) / np.sum(np.exp(Z_adjusted), axis=0)\n",
    "    return A\n",
    "  \n",
    "  def forward_propagation(self, X):\n",
    "\n",
    "    self.activations[f'A{0}'] = X\n",
    "\n",
    "    for i in range(1,self.num_layers + 1):\n",
    "\n",
    "      W = self.weights_biases[f'W{i}']\n",
    "      b = self.weights_biases[f'b{i}']\n",
    "      Z = np.dot(W, self.activations[f'A{i-1}']) + b\n",
    "      A = self.RELU(Z)\n",
    "      self.activations[f'A{i}'] = A\n",
    "      self.activations[f'Z{i}'] = Z\n",
    "    \n",
    "    W = self.weights_biases[f'W{self.num_layers + 1}']\n",
    "    b = self.weights_biases[f'b{self.num_layers + 1}']\n",
    "    Z = np.dot(W, self.activations[f'A{self.num_layers }']) + b\n",
    "    A = self.softmax(Z)\n",
    "    self.activations[f'A{self.num_layers + 1}'] = A\n",
    "    self.activations[f'Z{self.num_layers + 1}'] = Z\n",
    "\n",
    "    cache = {\n",
    "        'Z': self.activations[f'Z{self.num_layers + 1}'],\n",
    "        'A': self.activations[f'A{self.num_layers + 1}']\n",
    "    }\n",
    "\n",
    "\n",
    "    return A,cache\n",
    "\n",
    "  def one_hot_encode(self, y):\n",
    "    num_classes = np.max(y) + 1\n",
    "    encoded = np.zeros((num_classes, y.shape[0]))\n",
    "    encoded[y, np.arange(y.shape[0])] = 1\n",
    "    return encoded\n",
    "\n",
    "  def total_loss(self,y_pred,Y):\n",
    "\n",
    "    m = Y.shape[1]\n",
    "    epsilon = 1e-8\n",
    "   \n",
    "    loss = -np.sum(Y * np.log(y_pred +epsilon)) / m\n",
    "    return loss\n",
    "\n",
    "  def backward_prop(self,y_pred,Y):\n",
    "     m = Y.shape[1]\n",
    "     dZ_out = y_pred - Y\n",
    "     gradients = {}\n",
    "     gradients[f\"dW{self.num_layers + 1}\"] = (1 / m) * np.dot(dZ_out, self.activations[f\"A{self.num_layers}\"].T)\n",
    "     gradients[f\"db{self.num_layers + 1}\"] = (1 / m) * np.sum(dZ_out, axis=1, keepdims=True)\n",
    "     dA_prev = np.dot(self.weights_biases[f\"W{self.num_layers + 1}\"].T, dZ_out)\n",
    "     for i in range(self.num_layers, 0, -1):\n",
    "\n",
    "      dZ = np.array(dA_prev, copy=True)\n",
    "      dZ[self.activations[f\"Z{i}\"] <= 0] = 0\n",
    "      gradients[f\"dW{i}\"] = (1 / m) * np.dot(dZ, self.activations[f\"A{i - 1}\"].T)\n",
    "      gradients[f\"db{i}\"] = (1 / m) * np.sum(dZ, axis=1, keepdims=True)\n",
    "      dA_prev = np.dot(self.weights_biases[f\"W{i}\"].T, dZ)\n",
    "\n",
    "     return gradients\n",
    "\n",
    "     \n",
    "\n",
    "  def update_params(self,gradients):\n",
    "\n",
    "     for i in range(1, self.num_layers + 2):\n",
    "      self.weights_biases[f\"W{i}\"] -= self.learning_rate * gradients[f\"dW{i}\"]\n",
    "      self.weights_biases[f\"b{i}\"] -= self.learning_rate * gradients[f\"db{i}\"]\n",
    "\n",
    "  def train(self, X, y, num_iterations):\n",
    "\n",
    "     self.initial_params()\n",
    "     y_encoded = self.one_hot_encode(y)\n",
    "     for i in range(num_iterations):\n",
    "         A, cache = self.forward_propagation(X)\n",
    "         loss = self.total_loss(A, y_encoded)\n",
    "         grads = self.backward_prop(A, y_encoded)\n",
    "         self.update_params(grads)\n",
    "         if (i + 1) % 100 == 0:\n",
    "             print(f\"Iteration: {i+1}, Loss: {loss:.4f}\")\n",
    "\n",
    "  def predict(self, X):\n",
    "        b = {}\n",
    "\n",
    "        A,b = self.forward_propagation(X)\n",
    "        predictions = np.argmax(A, axis=0)\n",
    "      \n",
    "         \n",
    "        return predictions\n",
    "  "
   ]
  },
  {
   "cell_type": "code",
   "execution_count": 6,
   "metadata": {},
   "outputs": [
    {
     "name": "stdout",
     "output_type": "stream",
     "text": [
      "Iteration: 100, Loss: 0.6826\n",
      "Iteration: 200, Loss: 0.4844\n",
      "Iteration: 300, Loss: 0.4441\n",
      "Iteration: 400, Loss: 0.3274\n",
      "Iteration: 500, Loss: 0.2901\n",
      "Iteration: 600, Loss: 0.2705\n",
      "Iteration: 700, Loss: 0.2502\n",
      "Iteration: 800, Loss: 0.2254\n",
      "Iteration: 900, Loss: 0.2126\n",
      "Iteration: 1000, Loss: 0.2020\n",
      "Iteration: 1100, Loss: 0.1922\n",
      "Iteration: 1200, Loss: 0.1850\n",
      "Iteration: 1300, Loss: 0.1809\n",
      "Iteration: 1400, Loss: 0.1717\n",
      "Iteration: 1500, Loss: 0.1629\n",
      "Iteration: 1600, Loss: 0.1579\n",
      "Iteration: 1700, Loss: 0.1553\n",
      "Iteration: 1800, Loss: 0.1513\n",
      "Iteration: 1900, Loss: 0.1434\n",
      "Iteration: 2000, Loss: 0.1415\n",
      "Iteration: 2100, Loss: 0.1362\n",
      "Iteration: 2200, Loss: 0.1322\n",
      "Iteration: 2300, Loss: 0.1302\n",
      "Iteration: 2400, Loss: 0.1263\n",
      "Iteration: 2500, Loss: 0.1224\n",
      "Iteration: 2600, Loss: 0.1188\n",
      "Iteration: 2700, Loss: 0.1180\n",
      "Iteration: 2800, Loss: 0.1146\n",
      "Iteration: 2900, Loss: 0.1108\n",
      "Iteration: 3000, Loss: 0.1080\n",
      "Iteration: 3100, Loss: 0.1060\n",
      "Iteration: 3200, Loss: 0.1054\n",
      "Iteration: 3300, Loss: 0.1016\n",
      "Iteration: 3400, Loss: 0.0998\n",
      "Iteration: 3500, Loss: 0.0979\n",
      "Iteration: 3600, Loss: 0.0988\n",
      "Iteration: 3700, Loss: 0.0966\n",
      "Iteration: 3800, Loss: 0.0931\n",
      "Iteration: 3900, Loss: 0.0923\n",
      "Iteration: 4000, Loss: 0.0906\n"
     ]
    }
   ],
   "source": [
    "model = ANN(input_size=784, output_size=10, learning_rate=0.2, num_layers=3, num_of_nodes_layers=64)\n",
    "model.train(x_train, y_train, num_iterations=4000)"
   ]
  },
  {
   "cell_type": "code",
   "execution_count": 7,
   "metadata": {},
   "outputs": [
    {
     "name": "stdout",
     "output_type": "stream",
     "text": [
      "Accuracy: 94.26 %\n"
     ]
    }
   ],
   "source": [
    "m = model.predict(x_test)\n",
    "b = m.shape\n",
    "c = int(b[0])\n",
    "d = np.array(y_test)\n",
    "d = d.T\n",
    "t=0\n",
    "for i in range(c):\n",
    "    if(m[i]==d[i]):\n",
    "        t=t+1\n",
    "print('Accuracy:',t/c *100, '%')\n",
    "\n"
   ]
  },
  {
   "cell_type": "code",
   "execution_count": 10,
   "metadata": {},
   "outputs": [
    {
     "name": "stdout",
     "output_type": "stream",
     "text": [
      "3\n"
     ]
    },
    {
     "data": {
      "image/png": "[encoded data removed]",
      "text/plain": [
       "<Figure size 500x500 with 1 Axes>"
      ]
     },
     "metadata": {},
     "output_type": "display_data"
    }
   ],
   "source": [
    "X_test_reshaped = x_test.T.values.reshape(-1, 28, 28)\n",
    "plt.figure(figsize=(5, 5))\n",
    "i = 500\n",
    "print(d[i])\n",
    "plt.imshow(X_test_reshaped[i])\n",
    "plt.xlabel(m[i]);\n"
   ]
  },
  {
   "cell_type": "code",
   "execution_count": null,
   "metadata": {},
   "outputs": [],
   "source": []
  }
 ],
 "metadata": {
  "kernelspec": {
   "display_name": "Python 3",
   "language": "python",
   "name": "python3"
  },
  "language_info": {
   "codemirror_mode": {
    "name": "ipython",
    "version": 3
   },
   "file_extension": ".py",
   "mimetype": "text/x-python",
   "name": "python",
   "nbconvert_exporter": "python",
   "pygments_lexer": "ipython3",
   "version": "3.10.9"
  },
  "orig_nbformat": 4
 },
 "nbformat": 4,
 "nbformat_minor": 2
}
